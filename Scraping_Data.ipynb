{
  "nbformat": 4,
  "nbformat_minor": 0,
  "metadata": {
    "colab": {
      "provenance": []
    },
    "kernelspec": {
      "name": "python3",
      "display_name": "Python 3"
    },
    "language_info": {
      "name": "python"
    }
  },
  "cells": [
    {
      "cell_type": "code",
      "execution_count": 2,
      "metadata": {
        "id": "IVglK3yVL-21"
      },
      "outputs": [],
      "source": [
        "# Import modul\n",
        "import requests\n",
        "from bs4 import BeautifulSoup\n",
        "import pandas as pd"
      ]
    },
    {
      "cell_type": "code",
      "source": [
        "# URL dari halaman yang ingin di-scrape\n",
        "url = \"https://www.worldometers.info/coronavirus/\""
      ],
      "metadata": {
        "id": "PRv1EyWfMe-7"
      },
      "execution_count": 3,
      "outputs": []
    },
    {
      "cell_type": "code",
      "source": [
        "# Scraping data\n",
        "\n",
        "# Mengirim permintaan HTTP ke URL dan mengurai konten HTML\n",
        "response = requests.get(url)\n",
        "soup = BeautifulSoup(response.content, 'html.parser')\n",
        "\n",
        "# Menemukan tabel utama yang berisi data\n",
        "table = soup.find(id=\"main_table_countries_today\")\n",
        "\n",
        "# Mengambil header tabel\n",
        "headers = [th.text.strip() for th in table.find_all('th')]\n",
        "\n",
        "# Mengambil data dari tabel\n",
        "rows = [[td.text.strip() for td in tr.find_all('td')] for tr in table.find('tbody').find_all('tr') if len(tr.find_all('td')) > 0]"
      ],
      "metadata": {
        "id": "EULg-UHhM_v8"
      },
      "execution_count": 4,
      "outputs": []
    },
    {
      "cell_type": "code",
      "source": [
        "# Membuat DataFrame dengan pandas\n",
        "df = pd.DataFrame(rows, columns=headers)"
      ],
      "metadata": {
        "id": "ru9yzOvxPCbe"
      },
      "execution_count": 5,
      "outputs": []
    },
    {
      "cell_type": "code",
      "source": [
        "# Menampilkan DataFrame dan menyimpan ke file CSV\n",
        "print(df.head())\n",
        "df.to_csv('covid_data.csv', index=False)"
      ],
      "metadata": {
        "colab": {
          "base_uri": "https://localhost:8080/"
        },
        "id": "kFbiexOjPGTw",
        "outputId": "83f3e7b1-70e0-48d5-d09a-8f83f1eff7bf"
      },
      "execution_count": 6,
      "outputs": [
        {
          "output_type": "stream",
          "name": "stdout",
          "text": [
            "  #  Country,Other   TotalCases NewCases TotalDeaths NewDeaths TotalRecovered  \\\n",
            "0    North America  131,889,132            1,695,941              127,665,129   \n",
            "1             Asia  221,500,265            1,553,662              205,673,091   \n",
            "2           Europe  253,406,198            2,101,824              248,754,104   \n",
            "3    South America   70,200,879            1,367,332               66,683,585   \n",
            "4          Oceania   14,895,771               33,015               14,752,388   \n",
            "\n",
            "  NewRecovered ActiveCases Serious,Critical  ... TotalTests Tests/\\n1M pop  \\\n",
            "0         +350   2,528,062            6,095  ...                             \n",
            "1               14,273,512           14,733  ...                             \n",
            "2         +474   2,550,270            4,453  ...                             \n",
            "3                2,149,962            8,953  ...                             \n",
            "4                  110,368               31  ...                             \n",
            "\n",
            "  Population          Continent 1 Caseevery X ppl 1 Deathevery X ppl  \\\n",
            "0                 North America                                        \n",
            "1                          Asia                                        \n",
            "2                        Europe                                        \n",
            "3                 South America                                        \n",
            "4             Australia/Oceania                                        \n",
            "\n",
            "  1 Testevery X ppl New Cases/1M pop New Deaths/1M pop Active Cases/1M pop  \n",
            "0                                                                           \n",
            "1                                                                           \n",
            "2                                                                           \n",
            "3                                                                           \n",
            "4                                                                           \n",
            "\n",
            "[5 rows x 22 columns]\n"
          ]
        }
      ]
    },
    {
      "cell_type": "code",
      "source": [
        "# Menghitung dan menampilkan jumlah data yang didapatkan\n",
        "jumlah_data = len(df)\n",
        "print(f\"Jumlah data yang didapatkan: {jumlah_data}\")"
      ],
      "metadata": {
        "colab": {
          "base_uri": "https://localhost:8080/"
        },
        "id": "0YS9uRx8Tn7x",
        "outputId": "d388bbab-4fbb-4b14-c430-5984001e5b1f"
      },
      "execution_count": 7,
      "outputs": [
        {
          "output_type": "stream",
          "name": "stdout",
          "text": [
            "Jumlah data yang didapatkan: 239\n"
          ]
        }
      ]
    },
    {
      "cell_type": "code",
      "source": [
        "# Scraping data untuk satu negara misalnya negara Indonesia\n",
        "\n",
        "page = requests.get (\"https://www.worldometers.info/coronavirus/\")\n",
        "\n",
        "after_bs = BeautifulSoup (page.content, \"html.parser\")\n",
        "\n",
        "find_data = after_bs.find_all (id=\"maincounter-wrap\")\n",
        "\n",
        "print(\"Corona virus cases, deaths, and recovered reported in Indonesia\")\n",
        "\n",
        "for x in find_data:\n",
        "  print(x.text)"
      ],
      "metadata": {
        "colab": {
          "base_uri": "https://localhost:8080/"
        },
        "id": "aykjmNhnr-0b",
        "outputId": "fec74f44-a02b-41ca-eea6-fb70176ebfbe"
      },
      "execution_count": 8,
      "outputs": [
        {
          "output_type": "stream",
          "name": "stdout",
          "text": [
            "Corona virus cases, deaths, and recovered reported in Indonesia\n",
            "\n",
            "Coronavirus Cases:\n",
            "\n",
            "704,753,890        \n",
            "\n",
            "\n",
            "\n",
            "Deaths:\n",
            "\n",
            "7,010,681\n",
            "\n",
            "\n",
            "\n",
            "Recovered:\n",
            "\n",
            "675,619,811\n",
            "\n",
            "\n"
          ]
        }
      ]
    }
  ]
}